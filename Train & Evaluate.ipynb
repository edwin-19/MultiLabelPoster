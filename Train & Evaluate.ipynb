{
 "cells": [
  {
   "cell_type": "code",
   "execution_count": 1,
   "id": "obvious-blogger",
   "metadata": {},
   "outputs": [],
   "source": [
    "import tensorflow as tf\n",
    "import numpy as np\n",
    "import pandas as pd\n",
    "from matplotlib import pyplot as plt\n",
    "import seaborn as sns\n",
    "import os\n",
    "import glob\n",
    "\n",
    "from sklearn.model_selection import train_test_split\n",
    "from sklearn.preprocessing import MultiLabelBinarizer\n",
    "from sklearn.metrics import classification_report, confusion_matrix, matthews_corrcoef"
   ]
  },
  {
   "cell_type": "code",
   "execution_count": 2,
   "id": "earlier-vacuum",
   "metadata": {},
   "outputs": [],
   "source": [
    "batch_size = 64\n",
    "epochs = 10"
   ]
  },
  {
   "cell_type": "markdown",
   "id": "consecutive-specialist",
   "metadata": {},
   "source": [
    "# Build simple cnn model"
   ]
  },
  {
   "cell_type": "code",
   "execution_count": null,
   "id": "collective-entrance",
   "metadata": {},
   "outputs": [],
   "source": [
    "model = tf.keras.Sequential([\n",
    "    tf.keras.layers.InputLayer(input_shape=(224, 224, 3)),\n",
    "    tf.keras.layers.Conv2D(32, (3, 3), activation='relu'),\n",
    "    tf.keras.layers.MaxPooling2D((2, 2)),\n",
    "    tf.keras.layers.Conv2D(32, (3, 3), activation='relu'),\n",
    "    tf.keras.layers.MaxPooling2D((2, 2)),\n",
    "    tf.keras.layers.Conv2D(64, (3, 3), activation='relu'),\n",
    "    tf.keras.layers.MaxPooling2D((2, 2)),\n",
    "    tf.keras.layers.Flatten(),\n",
    "    tf.keras.layers.Dense(256, activation='relu'),\n",
    "    tf.keras.layers.Dropout(0.25),\n",
    "    tf.keras.layers.Dense(27, activation='sigmoid')\n",
    "])"
   ]
  },
  {
   "cell_type": "code",
   "execution_count": null,
   "id": "sorted-composite",
   "metadata": {},
   "outputs": [],
   "source": [
    "model.summary()"
   ]
  },
  {
   "cell_type": "code",
   "execution_count": null,
   "id": "canadian-complex",
   "metadata": {},
   "outputs": [],
   "source": [
    "model.compile(loss=tf.keras.losses.BinaryCrossentropy(), optimizer=tf.keras.optimizers.Adam(1e-4), metrics=['accuracy'])"
   ]
  },
  {
   "cell_type": "markdown",
   "id": "constant-specification",
   "metadata": {},
   "source": [
    "# Load Data for use\n",
    "- First split to train and test\n",
    "- Load as a tf dataset "
   ]
  },
  {
   "cell_type": "code",
   "execution_count": null,
   "id": "waiting-behavior",
   "metadata": {},
   "outputs": [],
   "source": [
    "df = pd.read_csv('data/MovieGenre.csv')\n",
    "images = glob.glob('data/downloaded_posters/*.jpg')"
   ]
  },
  {
   "cell_type": "code",
   "execution_count": null,
   "id": "cardiovascular-winter",
   "metadata": {},
   "outputs": [],
   "source": [
    "df = df.dropna(subset=['Genre'])"
   ]
  },
  {
   "cell_type": "code",
   "execution_count": null,
   "id": "corresponding-asthma",
   "metadata": {},
   "outputs": [],
   "source": [
    "df['labels'] = df['Genre'].apply(lambda x: x.split('|'))"
   ]
  },
  {
   "cell_type": "code",
   "execution_count": null,
   "id": "monthly-growing",
   "metadata": {},
   "outputs": [],
   "source": [
    "train_df, test_df = train_test_split(df, test_size=0.2, random_state=2021)"
   ]
  },
  {
   "cell_type": "code",
   "execution_count": null,
   "id": "acquired-moses",
   "metadata": {},
   "outputs": [],
   "source": [
    "train_image = []\n",
    "train_labels = []\n",
    "\n",
    "test_image = []\n",
    "test_labels = []\n",
    "\n",
    "for val in train_df.itertuples(index=False):\n",
    "    image_name = 'data/downloaded_posters/' + str(val.imdbId) + '.jpg'\n",
    "    if os.path.exists(image_name):\n",
    "        train_image.append(image_name)\n",
    "        train_labels.append(val.labels)\n",
    "        \n",
    "for val in test_df.itertuples(index=False):\n",
    "    image_name = 'data/downloaded_posters/' + str(val.imdbId) + '.jpg'\n",
    "    if os.path.exists(image_name):\n",
    "        test_image.append(image_name)\n",
    "        test_labels.append(val.labels)"
   ]
  },
  {
   "cell_type": "code",
   "execution_count": null,
   "id": "divine-commodity",
   "metadata": {},
   "outputs": [],
   "source": [
    "binarizer = MultiLabelBinarizer().fit(train_labels)\n",
    "train_labels = binarizer.transform(train_labels)\n",
    "test_labels = binarizer.transform(test_labels)"
   ]
  },
  {
   "cell_type": "code",
   "execution_count": null,
   "id": "destroyed-irrigation",
   "metadata": {},
   "outputs": [],
   "source": [
    "index_label = dict([(index, cls) for index, cls in enumerate(binarizer.classes_)])"
   ]
  },
  {
   "cell_type": "code",
   "execution_count": null,
   "id": "alternate-checkout",
   "metadata": {},
   "outputs": [],
   "source": [
    "train_dataset = tf.data.Dataset.from_tensor_slices((train_image, train_labels))\n",
    "test_dataset = tf.data.Dataset.from_tensor_slices((test_image, test_labels))"
   ]
  },
  {
   "cell_type": "code",
   "execution_count": null,
   "id": "noted-richmond",
   "metadata": {},
   "outputs": [],
   "source": [
    "@tf.function\n",
    "def read_data(image, labels):\n",
    "    img = tf.io.decode_jpeg(tf.io.read_file(image), channels=3)\n",
    "    img = tf.cast(img, tf.float32)\n",
    "    img = tf.image.resize(img, [224, 224])\n",
    "    \n",
    "    return img / 255., tf.cast(labels, tf.float32)"
   ]
  },
  {
   "cell_type": "code",
   "execution_count": null,
   "id": "systematic-indianapolis",
   "metadata": {},
   "outputs": [],
   "source": [
    "train_dataset = train_dataset.shuffle(len(train_dataset)).map(\n",
    "    read_data, num_parallel_calls=tf.data.experimental.AUTOTUNE\n",
    ").batch(batch_size).prefetch(tf.data.experimental.AUTOTUNE)\n",
    "\n",
    "test_dataset = test_dataset.map(\n",
    "    read_data, num_parallel_calls=tf.data.experimental.AUTOTUNE\n",
    ").batch(batch_size).prefetch(tf.data.experimental.AUTOTUNE)"
   ]
  },
  {
   "cell_type": "markdown",
   "id": "according-seller",
   "metadata": {},
   "source": [
    "# Train & Plot History"
   ]
  },
  {
   "cell_type": "code",
   "execution_count": null,
   "id": "forty-pledge",
   "metadata": {},
   "outputs": [],
   "source": [
    "history = model.fit(train_dataset, validation_data=test_dataset, epochs=epochs)"
   ]
  },
  {
   "cell_type": "code",
   "execution_count": null,
   "id": "heated-graphics",
   "metadata": {},
   "outputs": [],
   "source": []
  }
 ],
 "metadata": {
  "kernelspec": {
   "display_name": "Python 3",
   "language": "python",
   "name": "python3"
  },
  "language_info": {
   "codemirror_mode": {
    "name": "ipython",
    "version": 3
   },
   "file_extension": ".py",
   "mimetype": "text/x-python",
   "name": "python",
   "nbconvert_exporter": "python",
   "pygments_lexer": "ipython3",
   "version": "3.8.5"
  }
 },
 "nbformat": 4,
 "nbformat_minor": 5
}
