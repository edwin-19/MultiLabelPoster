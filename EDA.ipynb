{
 "cells": [
  {
   "cell_type": "markdown",
   "id": "ceramic-desert",
   "metadata": {},
   "source": [
    "# Exploration of movie genre dataset image\n",
    "- You can download the dataset https://www.kaggle.com/neha1703/movie-genre-from-its-poster?select=SampleMoviePosters\n",
    "- It contains a combination of a single image poster, with multiple labels\n",
    "- e.g a moview can be both action, comedy and romance combined"
   ]
  },
  {
   "cell_type": "code",
   "execution_count": 24,
   "id": "native-mayor",
   "metadata": {},
   "outputs": [],
   "source": [
    "import pandas as pd\n",
    "import tensorflow as tf\n",
    "import numpy as np\n",
    "import seaborn as sns\n",
    "from matplotlib import pyplot as plt\n",
    "import glob\n",
    "from sklearn.preprocessing import MultiLabelBinarizer"
   ]
  },
  {
   "cell_type": "markdown",
   "id": "suspended-journal",
   "metadata": {},
   "source": [
    "# Utility function"
   ]
  },
  {
   "cell_type": "code",
   "execution_count": 2,
   "id": "enclosed-paradise",
   "metadata": {},
   "outputs": [],
   "source": [
    "def show_values_on_bars(axs, h_v=\"v\", space=0.4):\n",
    "    def _show_on_single_plot(ax):\n",
    "        if h_v == \"v\":\n",
    "            for p in ax.patches:\n",
    "                _x = p.get_x() + p.get_width() / 2\n",
    "                _y = p.get_y() + p.get_height()\n",
    "                value = int(p.get_height())\n",
    "                ax.text(_x, _y, value, ha=\"center\") \n",
    "        elif h_v == \"h\":\n",
    "            for p in ax.patches:\n",
    "                _x = p.get_x() + p.get_width() + float(space)\n",
    "                _y = p.get_y() + p.get_height()\n",
    "                value = int(p.get_width())\n",
    "                ax.text(_x, _y, value, ha=\"left\")\n",
    "\n",
    "    if isinstance(axs, np.ndarray):\n",
    "        for idx, ax in np.ndenumerate(axs):\n",
    "            _show_on_single_plot(ax)\n",
    "    else:\n",
    "        _show_on_single_plot(axs)"
   ]
  },
  {
   "cell_type": "markdown",
   "id": "caroline-convertible",
   "metadata": {},
   "source": [
    "# Load and visualize data"
   ]
  },
  {
   "cell_type": "code",
   "execution_count": 4,
   "id": "filled-round",
   "metadata": {},
   "outputs": [],
   "source": [
    "df = pd.read_csv('data/MovieGenre.csv')"
   ]
  },
  {
   "cell_type": "code",
   "execution_count": 5,
   "id": "systematic-detective",
   "metadata": {},
   "outputs": [
    {
     "data": {
      "text/html": [
       "<div>\n",
       "<style scoped>\n",
       "    .dataframe tbody tr th:only-of-type {\n",
       "        vertical-align: middle;\n",
       "    }\n",
       "\n",
       "    .dataframe tbody tr th {\n",
       "        vertical-align: top;\n",
       "    }\n",
       "\n",
       "    .dataframe thead th {\n",
       "        text-align: right;\n",
       "    }\n",
       "</style>\n",
       "<table border=\"1\" class=\"dataframe\">\n",
       "  <thead>\n",
       "    <tr style=\"text-align: right;\">\n",
       "      <th></th>\n",
       "      <th>imdbId</th>\n",
       "      <th>Imdb Link</th>\n",
       "      <th>Title</th>\n",
       "      <th>IMDB Score</th>\n",
       "      <th>Genre</th>\n",
       "      <th>Poster</th>\n",
       "    </tr>\n",
       "  </thead>\n",
       "  <tbody>\n",
       "    <tr>\n",
       "      <th>0</th>\n",
       "      <td>114709</td>\n",
       "      <td>http://www.imdb.com/title/tt114709</td>\n",
       "      <td>Toy Story (1995)</td>\n",
       "      <td>8.3</td>\n",
       "      <td>Animation|Adventure|Comedy</td>\n",
       "      <td>https://images-na.ssl-images-amazon.com/images...</td>\n",
       "    </tr>\n",
       "    <tr>\n",
       "      <th>1</th>\n",
       "      <td>113497</td>\n",
       "      <td>http://www.imdb.com/title/tt113497</td>\n",
       "      <td>Jumanji (1995)</td>\n",
       "      <td>6.9</td>\n",
       "      <td>Action|Adventure|Family</td>\n",
       "      <td>https://images-na.ssl-images-amazon.com/images...</td>\n",
       "    </tr>\n",
       "    <tr>\n",
       "      <th>2</th>\n",
       "      <td>113228</td>\n",
       "      <td>http://www.imdb.com/title/tt113228</td>\n",
       "      <td>Grumpier Old Men (1995)</td>\n",
       "      <td>6.6</td>\n",
       "      <td>Comedy|Romance</td>\n",
       "      <td>https://images-na.ssl-images-amazon.com/images...</td>\n",
       "    </tr>\n",
       "    <tr>\n",
       "      <th>3</th>\n",
       "      <td>114885</td>\n",
       "      <td>http://www.imdb.com/title/tt114885</td>\n",
       "      <td>Waiting to Exhale (1995)</td>\n",
       "      <td>5.7</td>\n",
       "      <td>Comedy|Drama|Romance</td>\n",
       "      <td>https://images-na.ssl-images-amazon.com/images...</td>\n",
       "    </tr>\n",
       "    <tr>\n",
       "      <th>4</th>\n",
       "      <td>113041</td>\n",
       "      <td>http://www.imdb.com/title/tt113041</td>\n",
       "      <td>Father of the Bride Part II (1995)</td>\n",
       "      <td>5.9</td>\n",
       "      <td>Comedy|Family|Romance</td>\n",
       "      <td>https://images-na.ssl-images-amazon.com/images...</td>\n",
       "    </tr>\n",
       "  </tbody>\n",
       "</table>\n",
       "</div>"
      ],
      "text/plain": [
       "   imdbId                           Imdb Link  \\\n",
       "0  114709  http://www.imdb.com/title/tt114709   \n",
       "1  113497  http://www.imdb.com/title/tt113497   \n",
       "2  113228  http://www.imdb.com/title/tt113228   \n",
       "3  114885  http://www.imdb.com/title/tt114885   \n",
       "4  113041  http://www.imdb.com/title/tt113041   \n",
       "\n",
       "                                Title  IMDB Score                       Genre  \\\n",
       "0                    Toy Story (1995)         8.3  Animation|Adventure|Comedy   \n",
       "1                      Jumanji (1995)         6.9     Action|Adventure|Family   \n",
       "2             Grumpier Old Men (1995)         6.6              Comedy|Romance   \n",
       "3            Waiting to Exhale (1995)         5.7        Comedy|Drama|Romance   \n",
       "4  Father of the Bride Part II (1995)         5.9       Comedy|Family|Romance   \n",
       "\n",
       "                                              Poster  \n",
       "0  https://images-na.ssl-images-amazon.com/images...  \n",
       "1  https://images-na.ssl-images-amazon.com/images...  \n",
       "2  https://images-na.ssl-images-amazon.com/images...  \n",
       "3  https://images-na.ssl-images-amazon.com/images...  \n",
       "4  https://images-na.ssl-images-amazon.com/images...  "
      ]
     },
     "execution_count": 5,
     "metadata": {},
     "output_type": "execute_result"
    }
   ],
   "source": [
    "df.head()"
   ]
  },
  {
   "cell_type": "code",
   "execution_count": 6,
   "id": "dominant-battery",
   "metadata": {},
   "outputs": [],
   "source": [
    "df = df.dropna()"
   ]
  },
  {
   "cell_type": "code",
   "execution_count": 7,
   "id": "thirty-reggae",
   "metadata": {},
   "outputs": [
    {
     "data": {
      "image/png": "[encoded data removed]",
      "text/plain": [
       "<Figure size 1080x720 with 1 Axes>"
      ]
     },
     "metadata": {
      "needs_background": "light"
     },
     "output_type": "display_data"
    }
   ],
   "source": [
    "# View class distribution\n",
    "count_vals = df['Genre'].apply(lambda x: x.split('|')).explode().value_counts()\n",
    "\n",
    "plt.figure(figsize=(15, 10))\n",
    "g = sns.barplot(y=count_vals.index, x=count_vals)\n",
    "show_values_on_bars(g, \"h\", 3.3)"
   ]
  },
  {
   "cell_type": "markdown",
   "id": "metropolitan-hamilton",
   "metadata": {},
   "source": [
    "# Lets read and understand the images\n",
    "- We have to download our images\n",
    "- At the same time we have to binarize our labels to as such -> [0, 1, 1, 0]\n",
    "- Classification problems type:\n",
    "\n",
    "    1) Multi class classification - can only be 1 labelt\n",
    "        - one_hot_example -> [0, 1, 0, 0] # cannot be more than 1 type\n",
    "        - output - softmax (probability of whether you belong to 1 class)\n",
    "            - [0.3, 0.6, 0.05, 0.05] - Add to become 1\n",
    "        \n",
    "    2) Multi label classification - can be more than 1 label\n",
    "        - one_hot_example -> [1, 1, 0, 0] # can be more than 1 type\n",
    "        - output - sigmoid function (probablity add up to be more than 1, each class also have a value of 0 - 1)\n",
    "            - [0.7, 0.8, 0.3, 0.2] - Can add up to be more than 1"
   ]
  },
  {
   "cell_type": "code",
   "execution_count": 1,
   "id": "typical-quarter",
   "metadata": {},
   "outputs": [],
   "source": [
    "!code ."
   ]
  },
  {
   "cell_type": "code",
   "execution_count": 8,
   "id": "religious-latter",
   "metadata": {},
   "outputs": [],
   "source": [
    "images = glob.glob('data/SampleMoviePosters/SampleMoviePosters/*.jpg')"
   ]
  },
  {
   "cell_type": "code",
   "execution_count": 9,
   "id": "optional-alert",
   "metadata": {},
   "outputs": [],
   "source": [
    "labels = list(count_vals.keys())\n",
    "labels_index = dict([(label, index) for index, label in enumerate(labels)])"
   ]
  },
  {
   "cell_type": "code",
   "execution_count": 33,
   "id": "continuous-bracelet",
   "metadata": {},
   "outputs": [],
   "source": [
    "df['Genre_Index'] = df['Genre'].apply(lambda x: [labels_index[text] for text in x.split('|')])"
   ]
  },
  {
   "cell_type": "code",
   "execution_count": 41,
   "id": "thermal-specification",
   "metadata": {},
   "outputs": [
    {
     "data": {
      "text/plain": [
       "MultiLabelBinarizer()"
      ]
     },
     "execution_count": 41,
     "metadata": {},
     "output_type": "execute_result"
    }
   ],
   "source": [
    "mlb = MultiLabelBinarizer()\n",
    "mlb.fit(df['Genre_Index'])"
   ]
  },
  {
   "cell_type": "code",
   "execution_count": 42,
   "id": "favorite-spain",
   "metadata": {},
   "outputs": [],
   "source": [
    "img_posters = df['Poster'].tolist()\n",
    "genre_index = mlb.transform(df['Genre_Index'])"
   ]
  },
  {
   "cell_type": "code",
   "execution_count": 47,
   "id": "classified-bowling",
   "metadata": {},
   "outputs": [],
   "source": [
    "dataset = tf.data.Dataset.from_tensor_slices((img_posters, genre_index))"
   ]
  }
 ],
 "metadata": {
  "kernelspec": {
   "display_name": "Python 3",
   "language": "python",
   "name": "python3"
  },
  "language_info": {
   "codemirror_mode": {
    "name": "ipython",
    "version": 3
   },
   "file_extension": ".py",
   "mimetype": "text/x-python",
   "name": "python",
   "nbconvert_exporter": "python",
   "pygments_lexer": "ipython3",
   "version": "3.8.5"
  }
 },
 "nbformat": 4,
 "nbformat_minor": 5
}
